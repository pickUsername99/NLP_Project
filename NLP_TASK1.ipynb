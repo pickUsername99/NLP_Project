{
  "nbformat": 4,
  "nbformat_minor": 0,
  "metadata": {
    "colab": {
      "name": "NLP_TASK1.ipynb",
      "provenance": [],
      "collapsed_sections": []
    },
    "kernelspec": {
      "name": "python3",
      "display_name": "Python 3"
    },
    "language_info": {
      "name": "python"
    }
  },
  "cells": [
    {
      "cell_type": "markdown",
      "source": [
        "#Sentiment Analysis \n",
        "NLP's Sentiment Analysis subfield evaluates the inclination of people's opinions (Positive/Negative/Neutral) within unstructured text using sentiment analysis (also known as opinion mining or emotion AI). Rule-based and Machine Learning-based methods can be used for sentiment analysis. Rather than relying on machine learning models, Rule-Based method is a practical way to text analysis that doesn't require training. This method yields a set of guidelines for categorizing text as either positive, negative, or neutral. lexicons are a type of lexicon that is used to describe these rules. Thus, the Lexicon-based technique is referred to as a Rule-based method.  TextBlob, VADER, and SentiWordNet are among the most popular lexicon-based techniques (Bonthu, 2021).\n",
        "\n",
        "\n",
        "A few examples of Sentiment Analysis in practice: \n",
        "\n",
        "The study of the market \n",
        "\n",
        "*   The study of the market\n",
        "*   Monitoring of online social networks \n",
        "*   Brand sentiment or reputation study based on customer feedback\n",
        "*   a study of consumer preferences\n",
        "\n",
        "Sentiment analysis can be carried out at the sentence or document level, depending on the situation. As a general rule, the complexity of sentence-level analysis is linked to the fact that the semantic orientation of words is highly context-dependent, whereas the complexity of document-level mining is exacerbated by the fact that a single document may contain several opposing viewpoints on the same target.\n",
        "\n",
        "\n",
        "Noura Farra and her colleagues investigated Sentiment Analysis of Arabic text at two different levels: the phrase level and the document level. In the field of Arabic sentiment Analysis, there is a lack of research in that area. They investigate two approaches to categorizing sentences at the sentence-level. One of the ways is to adopt a broad framework for the Arabic sentence, which is a novel grammatical approach in the field of Arabic grammar. A semantic dictionary with interactive learning capabilities was utilized to store and identify new polarity based on the roots of various words for their second approach, which is based on the semantic orientation of words and their associated frequency distributions. It is dependent on the semantic contributions of chunks in the document, which are dynamically separated into chunks and classified according to the semantic contributions of each chunk, that document-level classification can be achieved. This dynamic chunking approach can be utilized for Sentiment Analysis in other languages as well as English. In the final section, they propose a hierarchical classification system that uses the results of the sentence-level classifier as an input to the document-level classifier, a technique that has not previously been investigated for Arabic documents (Farra & Challita, 2010)\n",
        "\n",
        "In another study the author evaluate the effectiveness of e-learning by examining people's attitudes regarding e-learning. In order to determine the polarity and subjectivity score of tweets' text, among other things, the author applies TextBlob, VADER (Valence Aware Dictionary for Sentiment Reasoning), and SentiWordNet, among other tools. Aside from that, due to the excellent classification accuracy of machine learning models, a variety of machine learning models have been utilized for sentiment categorization in the past. To create and assess the models quickly, two feature extraction techniques were used: TF-IDF and BoW, both of which are described in detail below. The phrase frequency-inverse document frequency approach is referred to as TF-IDF. During COVID-19, the reactions and tweets of Twitter users about online education were recorded and analyzed for information (Mujahid et al., 2021). \n",
        "\n",
        "To accomplish this sentiment analysis, various processes must be completed, including collecting data using web crawler, text processing, testing training data, and text classification using the Nave Bayes approach. For this project, we will use the Rule-based method to a new article on document. The Nave Bayes method is used to help classify people into groups or to determine the strength of sentiment in a community.\n",
        "\n"
      ],
      "metadata": {
        "id": "uCg0wNIF9dVn"
      }
    },
    {
      "cell_type": "code",
      "metadata": {
        "id": "fRnzXKOasL4g"
      },
      "source": [
        "%%capture\n",
        "!pip install contractions"
      ],
      "execution_count": null,
      "outputs": []
    },
    {
      "cell_type": "code",
      "metadata": {
        "id": "gH3X-dUWvpdx"
      },
      "source": [
        "import gspread\n",
        "import pandas as pd\n",
        "from google.colab import auth\n",
        "from oauth2client.client import GoogleCredentials\n",
        "import nltk\n",
        "nltk.download('stopwords')\n",
        "from nltk.corpus import stopwords\n",
        "import re\n",
        "import gc\n",
        "import string #\n",
        "nltk.download('punkt')\n",
        "from nltk.tokenize import word_tokenize \n",
        "nltk.download('averaged_perceptron_tagger') #post tagging\n",
        "import contractions\n",
        "from nltk import sent_tokenize, word_tokenize\n",
        "from nltk.stem.wordnet import WordNetLemmatizer\n",
        "nltk.download('wordnet')\n",
        "import collections\n",
        "import matplotlib.pyplot as plt\n",
        "\n"
      ],
      "execution_count": null,
      "outputs": []
    },
    {
      "cell_type": "code",
      "metadata": {
        "id": "3vwpywFLR-FC"
      },
      "source": [
        "from google.colab import drive \n",
        "drive.mount('/content/gdrive')\n"
      ],
      "execution_count": null,
      "outputs": []
    },
    {
      "cell_type": "markdown",
      "source": [
        "#Load & Merge the data"
      ],
      "metadata": {
        "id": "MfdP0wsGe1To"
      }
    },
    {
      "cell_type": "code",
      "metadata": {
        "id": "LEk_UeiKSVea"
      },
      "source": [
        "df_7news = pd.read_excel(\"/content/gdrive/MyDrive/Colab Notebooks/df_news7.xlsx\",  names=['','Title', 'Article','Category','URL','News Outlet']) \n",
        "\n",
        "df_theAge = pd.read_excel(\"/content/gdrive/MyDrive/Colab Notebooks/df_theAge-2.xlsx\", names=['','Title', 'Article','Category','URL','News Outlet']) \n",
        "\n",
        "df_thenewDaily = pd.read_excel(\"/content/gdrive/MyDrive/Colab Notebooks/df_newDaily.xlsx\", names=['','Title', 'Article','Category','URL','News Outlet']) \n",
        "\n",
        "#delete index column \n",
        "df_7news = df_7news.drop([''], axis=1)\n",
        "df_theAge = df_theAge.drop([''], axis=1)\n",
        "df_thenewDaily =df_thenewDaily.drop([''], axis=1)\n",
        "# reset index and merge dataframe and delete row with replay data\n",
        "df = pd.concat([df_7news,df_theAge,df_thenewDaily],ignore_index=True)\n"
      ],
      "execution_count": null,
      "outputs": []
    },
    {
      "cell_type": "code",
      "source": [
        "df.head()\n"
      ],
      "metadata": {
        "id": "BB7sz2oRe7Pi",
        "colab": {
          "base_uri": "https://localhost:8080/",
          "height": 310
        },
        "outputId": "c5796ae9-ae10-44d2-8038-8d6c537aa853"
      },
      "execution_count": null,
      "outputs": [
        {
          "output_type": "execute_result",
          "data": {
            "text/html": [
              "<div>\n",
              "<style scoped>\n",
              "    .dataframe tbody tr th:only-of-type {\n",
              "        vertical-align: middle;\n",
              "    }\n",
              "\n",
              "    .dataframe tbody tr th {\n",
              "        vertical-align: top;\n",
              "    }\n",
              "\n",
              "    .dataframe thead th {\n",
              "        text-align: right;\n",
              "    }\n",
              "</style>\n",
              "<table border=\"1\" class=\"dataframe\">\n",
              "  <thead>\n",
              "    <tr style=\"text-align: right;\">\n",
              "      <th></th>\n",
              "      <th>Title</th>\n",
              "      <th>Article</th>\n",
              "      <th>Category</th>\n",
              "      <th>URL</th>\n",
              "      <th>News Outlet</th>\n",
              "    </tr>\n",
              "  </thead>\n",
              "  <tbody>\n",
              "    <tr>\n",
              "      <th>0</th>\n",
              "      <td>Bathurst 2021: Chaz Mostert secures pole with ...</td>\n",
              "      <td>Walkinshaw Andretti United star Chaz Mostert h...</td>\n",
              "      <td>sport</td>\n",
              "      <td>https://www.7news.com.au/sport/motorsport/lee-...</td>\n",
              "      <td>7news</td>\n",
              "    </tr>\n",
              "    <tr>\n",
              "      <th>1</th>\n",
              "      <td>India v New Zealand: Ajaz Patel spins his way ...</td>\n",
              "      <td>New Zealand spinner Ajaz Patel can’t believe h...</td>\n",
              "      <td>sport</td>\n",
              "      <td>https://www.7news.com.au/sport/cricket/perfect...</td>\n",
              "      <td>7news</td>\n",
              "    </tr>\n",
              "    <tr>\n",
              "      <th>2</th>\n",
              "      <td>Ashes 2021: Justin Langer breaks silence on Ti...</td>\n",
              "      <td>Justin Langer has kept the door open on Tim Pa...</td>\n",
              "      <td>sport</td>\n",
              "      <td>https://www.7news.com.au/sport/cricket/paine-c...</td>\n",
              "      <td>7news</td>\n",
              "    </tr>\n",
              "    <tr>\n",
              "      <th>3</th>\n",
              "      <td>Melbourne Storm NRL star Brandon Smith shopped...</td>\n",
              "      <td>Brandon Smith may have played his last game fo...</td>\n",
              "      <td>sport</td>\n",
              "      <td>https://www.7news.com.au/sport/rugby-league/sm...</td>\n",
              "      <td>7news</td>\n",
              "    </tr>\n",
              "    <tr>\n",
              "      <th>4</th>\n",
              "      <td>Novak Djokovic swiped for ‘exhausting’ respons...</td>\n",
              "      <td>Novak Djokovic is still uncertain whether he w...</td>\n",
              "      <td>sport</td>\n",
              "      <td>https://www.7news.com.au/sport/tennis/djokovic...</td>\n",
              "      <td>7news</td>\n",
              "    </tr>\n",
              "  </tbody>\n",
              "</table>\n",
              "</div>"
            ],
            "text/plain": [
              "                                               Title  ... News Outlet\n",
              "0  Bathurst 2021: Chaz Mostert secures pole with ...  ...       7news\n",
              "1  India v New Zealand: Ajaz Patel spins his way ...  ...       7news\n",
              "2  Ashes 2021: Justin Langer breaks silence on Ti...  ...       7news\n",
              "3  Melbourne Storm NRL star Brandon Smith shopped...  ...       7news\n",
              "4  Novak Djokovic swiped for ‘exhausting’ respons...  ...       7news\n",
              "\n",
              "[5 rows x 5 columns]"
            ]
          },
          "metadata": {},
          "execution_count": 8
        }
      ]
    },
    {
      "cell_type": "markdown",
      "source": [
        "Prior to preprocessing and cleaning the dataset, the data is analyzed based on the news outlet from which it originated. These figures represent the number of news stories published by three different news organizations. \n",
        "\n"
      ],
      "metadata": {
        "id": "qDzx3H17dvD-"
      }
    },
    {
      "cell_type": "code",
      "source": [
        "df[\"News Outlet\"].value_counts().plot(kind ='bar',rot=0)\n",
        "plt.title('No. Of Articles based on news outlet')\n",
        "plt.xlabel('Articles')\n",
        "plt.ylabel('No')\n",
        "plt.show()"
      ],
      "metadata": {
        "id": "l8d9lT-7WMAF",
        "colab": {
          "base_uri": "https://localhost:8080/",
          "height": 295
        },
        "outputId": "e5f8f1b9-ad56-4b84-9af8-b71dd111f622"
      },
      "execution_count": null,
      "outputs": [
        {
          "output_type": "display_data",
          "data": {
            "image/png": "[encoded data removed]",
            "text/plain": [
              "<Figure size 432x288 with 1 Axes>"
            ]
          },
          "metadata": {
            "needs_background": "light"
          }
        }
      ]
    },
    {
      "cell_type": "code",
      "source": [
        "df.describe()"
      ],
      "metadata": {
        "id": "Zu8VI6bRfN5w",
        "colab": {
          "base_uri": "https://localhost:8080/",
          "height": 175
        },
        "outputId": "1ec08cd4-e98e-4d6c-a7b8-ff89f03e6c28"
      },
      "execution_count": null,
      "outputs": [
        {
          "output_type": "execute_result",
          "data": {
            "text/html": [
              "<div>\n",
              "<style scoped>\n",
              "    .dataframe tbody tr th:only-of-type {\n",
              "        vertical-align: middle;\n",
              "    }\n",
              "\n",
              "    .dataframe tbody tr th {\n",
              "        vertical-align: top;\n",
              "    }\n",
              "\n",
              "    .dataframe thead th {\n",
              "        text-align: right;\n",
              "    }\n",
              "</style>\n",
              "<table border=\"1\" class=\"dataframe\">\n",
              "  <thead>\n",
              "    <tr style=\"text-align: right;\">\n",
              "      <th></th>\n",
              "      <th>Title</th>\n",
              "      <th>Article</th>\n",
              "      <th>Category</th>\n",
              "      <th>URL</th>\n",
              "      <th>News Outlet</th>\n",
              "    </tr>\n",
              "  </thead>\n",
              "  <tbody>\n",
              "    <tr>\n",
              "      <th>count</th>\n",
              "      <td>275</td>\n",
              "      <td>259</td>\n",
              "      <td>275</td>\n",
              "      <td>275</td>\n",
              "      <td>275</td>\n",
              "    </tr>\n",
              "    <tr>\n",
              "      <th>unique</th>\n",
              "      <td>243</td>\n",
              "      <td>215</td>\n",
              "      <td>12</td>\n",
              "      <td>243</td>\n",
              "      <td>3</td>\n",
              "    </tr>\n",
              "    <tr>\n",
              "      <th>top</th>\n",
              "      <td>Tim Flannery: We must reduce emissions – we ha...</td>\n",
              "      <td>Replay</td>\n",
              "      <td>sport</td>\n",
              "      <td>https://thenewdaily.com.au/sport/tennis/2021/1...</td>\n",
              "      <td>7news</td>\n",
              "    </tr>\n",
              "    <tr>\n",
              "      <th>freq</th>\n",
              "      <td>4</td>\n",
              "      <td>13</td>\n",
              "      <td>128</td>\n",
              "      <td>4</td>\n",
              "      <td>116</td>\n",
              "    </tr>\n",
              "  </tbody>\n",
              "</table>\n",
              "</div>"
            ],
            "text/plain": [
              "                                                    Title  ... News Outlet\n",
              "count                                                 275  ...         275\n",
              "unique                                                243  ...           3\n",
              "top     Tim Flannery: We must reduce emissions – we ha...  ...       7news\n",
              "freq                                                    4  ...         116\n",
              "\n",
              "[4 rows x 5 columns]"
            ]
          },
          "metadata": {},
          "execution_count": 10
        }
      ]
    },
    {
      "cell_type": "markdown",
      "source": [
        "Pre-processing and cleaning & normalization methods are required to eliminate unwanted data from the dataset before sentiment analysis can be performed; however, because the news was gathered from a variety of sources, there was no need to remove any duplicate data from the dataset. The text was retrieved from a news outlet and converted into a data frame.\n",
        "\n",
        "The following measures were taken to ensure that the data was clean:\n",
        "* Removed URLs from the text\n",
        "* Removed stop words , expand the stop words to include   months and news outlet name\n",
        "* Removed punctuation\n",
        "* Removed numbers \n",
        "* Removed unnecessary spaces\n",
        "* Remove non-ascii characters \n",
        "* Converting upper case to lower case. \n",
        "* Expand the shortened words such as this’s or they’re\n",
        "* Drop any data without article information (label as Replay)\n",
        "* Tokenization: Dividing a paragraph into sentences then dived  sentences into words.\n",
        "* Lemmatization\n"
      ],
      "metadata": {
        "id": "fjrjOYgjfZxh"
      }
    },
    {
      "cell_type": "markdown",
      "source": [
        "The dataset count has been reduced to 246 (There were 29 rows with text label as Replay)."
      ],
      "metadata": {
        "id": "weso0UX_glv6"
      }
    },
    {
      "cell_type": "code",
      "source": [
        "print(\"Data Set before dropping row with Replay data: \" , len(df))\n",
        "\n",
        "df = df[df.Article.str.contains(\"Replay\") == False]\n",
        "\n",
        "print(\"Data Set after dropping row with Replay data: \" , len(df))\n"
      ],
      "metadata": {
        "colab": {
          "base_uri": "https://localhost:8080/"
        },
        "id": "pDf541WxfVWj",
        "outputId": "e6be88cb-2fcf-4f04-bced-a30dc3374dc3"
      },
      "execution_count": null,
      "outputs": [
        {
          "output_type": "stream",
          "name": "stdout",
          "text": [
            "Data Set before dropping row with Replay data:  275\n",
            "Data Set after dropping row with Replay data:  246\n"
          ]
        }
      ]
    },
    {
      "cell_type": "code",
      "metadata": {
        "id": "FxmNxHBNzGlJ"
      },
      "source": [
        "def clean_text(text):\n",
        "  expanded_words = []    \n",
        "  for word in text.split():\n",
        "    # using contractions.fix to expand the shotened words\n",
        "    edit_text = contractions.fix(word)\n",
        "    # Remove punctuation\n",
        "    edit_text = re.sub('[,\\.!?^]', '',edit_text)\n",
        "    edit_text = re.sub(r'http\\S+', '', edit_text)\n",
        "    edit_text = edit_text.lower()\n",
        "    expanded_words.append(edit_text)                          \n",
        "  \n",
        "  expanded_text = ' '.join(expanded_words)\n",
        "  # Remove non-ascii characters python\n",
        "  expanded_text = expanded_text.encode('ascii',errors='ignore')\n",
        "\n",
        "  return expanded_text.decode(\"utf-8\")  \n",
        "\n",
        "\n",
        "\n",
        "\n",
        "def remove_stopwords(word_tokens):\n",
        "    filtered_sentence = [] \n",
        "    stop_words = stopwords.words('english')\n",
        "    stop_words.extend(['7news', 'the new daily','January','February','March',\n",
        "                       'April','May','June','July','August','September','October'\n",
        "                       ,'November','December'])\n",
        "    for w_word_tokens in word_tokens:\n",
        "      for z_word_tokens in w_word_tokens:\n",
        "          if z_word_tokens.lower() not in stop_words: \n",
        "              filtered_sentence.append(z_word_tokens) \n",
        "    return filtered_sentence\n",
        "\n",
        "def tokenSet(text):\n",
        "  sequences = sent_tokenize(text)\n",
        "  seq_tokens = [word_tokenize(seq) for seq in sequences]\n",
        "  return seq_tokens\n",
        "\n",
        "\n",
        "\n",
        " \n",
        "def lemmatize(token_text):\n",
        "  lm = WordNetLemmatizer() #from nltk.stem.wordnet import WordNetLemmatizer\n",
        "  lemmatized_tokens = [lm.lemmatize(token) for token in token_text]\n",
        "  return lemmatized_tokens\n"
      ],
      "execution_count": null,
      "outputs": []
    },
    {
      "cell_type": "code",
      "metadata": {
        "id": "h-Hp8LjS1R_S"
      },
      "source": [
        " #Call functions \n",
        "df[\"news_clean\"] = [clean_text(txt) for txt in df['Article']]\n",
        "\n",
        "\n",
        "df[\"token_news\"] = [tokenSet(cleanTxt) for cleanTxt in df['news_clean']]\n",
        "df[\"token_news\"] = [remove_stopwords(tokenText) for tokenText in df['token_news']]\n",
        "df[\"lemmatize\"] = [lemmatize(lemmatized_tokens) for lemmatized_tokens in df['token_news']]\n"
      ],
      "execution_count": null,
      "outputs": []
    },
    {
      "cell_type": "markdown",
      "source": [
        "Our dataset columns will look like this after the function call. Our procedure reveals that the articles are tokenized and free of stopwords, hashtags, and links and lemmatization operation on them. Doing extra exploratory on our data to get the number of words and total length of each article. We can see that the average of number of words for all articles are 598 and verage total length is 3667. "
      ],
      "metadata": {
        "id": "E0Djyugyg6hO"
      }
    },
    {
      "cell_type": "code",
      "metadata": {
        "id": "yT_wGAHK_g26",
        "colab": {
          "base_uri": "https://localhost:8080/",
          "height": 467
        },
        "outputId": "c050f335-dd2c-41ec-9d19-dac59f416668"
      },
      "source": [
        "df.head()"
      ],
      "execution_count": null,
      "outputs": [
        {
          "output_type": "execute_result",
          "data": {
            "text/html": [
              "<div>\n",
              "<style scoped>\n",
              "    .dataframe tbody tr th:only-of-type {\n",
              "        vertical-align: middle;\n",
              "    }\n",
              "\n",
              "    .dataframe tbody tr th {\n",
              "        vertical-align: top;\n",
              "    }\n",
              "\n",
              "    .dataframe thead th {\n",
              "        text-align: right;\n",
              "    }\n",
              "</style>\n",
              "<table border=\"1\" class=\"dataframe\">\n",
              "  <thead>\n",
              "    <tr style=\"text-align: right;\">\n",
              "      <th></th>\n",
              "      <th>Title</th>\n",
              "      <th>Article</th>\n",
              "      <th>Category</th>\n",
              "      <th>URL</th>\n",
              "      <th>News Outlet</th>\n",
              "      <th>news_clean</th>\n",
              "      <th>token_news</th>\n",
              "      <th>lemmatize</th>\n",
              "    </tr>\n",
              "  </thead>\n",
              "  <tbody>\n",
              "    <tr>\n",
              "      <th>0</th>\n",
              "      <td>Bathurst 2021: Chaz Mostert secures pole with ...</td>\n",
              "      <td>Walkinshaw Andretti United star Chaz Mostert h...</td>\n",
              "      <td>sport</td>\n",
              "      <td>https://www.7news.com.au/sport/motorsport/lee-...</td>\n",
              "      <td>7news</td>\n",
              "      <td>walkinshaw andretti united star chaz mostert h...</td>\n",
              "      <td>[walkinshaw, andretti, united, star, chaz, mos...</td>\n",
              "      <td>[walkinshaw, andretti, united, star, chaz, mos...</td>\n",
              "    </tr>\n",
              "    <tr>\n",
              "      <th>1</th>\n",
              "      <td>India v New Zealand: Ajaz Patel spins his way ...</td>\n",
              "      <td>New Zealand spinner Ajaz Patel can’t believe h...</td>\n",
              "      <td>sport</td>\n",
              "      <td>https://www.7news.com.au/sport/cricket/perfect...</td>\n",
              "      <td>7news</td>\n",
              "      <td>new zealand spinner ajaz patel cannot believe ...</td>\n",
              "      <td>[new, zealand, spinner, ajaz, patel, believe, ...</td>\n",
              "      <td>[new, zealand, spinner, ajaz, patel, believe, ...</td>\n",
              "    </tr>\n",
              "    <tr>\n",
              "      <th>2</th>\n",
              "      <td>Ashes 2021: Justin Langer breaks silence on Ti...</td>\n",
              "      <td>Justin Langer has kept the door open on Tim Pa...</td>\n",
              "      <td>sport</td>\n",
              "      <td>https://www.7news.com.au/sport/cricket/paine-c...</td>\n",
              "      <td>7news</td>\n",
              "      <td>justin langer has kept the door open on tim pa...</td>\n",
              "      <td>[justin, langer, kept, door, open, tim, paines...</td>\n",
              "      <td>[justin, langer, kept, door, open, tim, paine,...</td>\n",
              "    </tr>\n",
              "    <tr>\n",
              "      <th>3</th>\n",
              "      <td>Melbourne Storm NRL star Brandon Smith shopped...</td>\n",
              "      <td>Brandon Smith may have played his last game fo...</td>\n",
              "      <td>sport</td>\n",
              "      <td>https://www.7news.com.au/sport/rugby-league/sm...</td>\n",
              "      <td>7news</td>\n",
              "      <td>brandon smith may have played his last game fo...</td>\n",
              "      <td>[brandon, smith, may, played, last, game, melb...</td>\n",
              "      <td>[brandon, smith, may, played, last, game, melb...</td>\n",
              "    </tr>\n",
              "    <tr>\n",
              "      <th>4</th>\n",
              "      <td>Novak Djokovic swiped for ‘exhausting’ respons...</td>\n",
              "      <td>Novak Djokovic is still uncertain whether he w...</td>\n",
              "      <td>sport</td>\n",
              "      <td>https://www.7news.com.au/sport/tennis/djokovic...</td>\n",
              "      <td>7news</td>\n",
              "      <td>novak djokovic is still uncertain whether he w...</td>\n",
              "      <td>[novak, djokovic, still, uncertain, whether, t...</td>\n",
              "      <td>[novak, djokovic, still, uncertain, whether, t...</td>\n",
              "    </tr>\n",
              "  </tbody>\n",
              "</table>\n",
              "</div>"
            ],
            "text/plain": [
              "                                               Title  ...                                          lemmatize\n",
              "0  Bathurst 2021: Chaz Mostert secures pole with ...  ...  [walkinshaw, andretti, united, star, chaz, mos...\n",
              "1  India v New Zealand: Ajaz Patel spins his way ...  ...  [new, zealand, spinner, ajaz, patel, believe, ...\n",
              "2  Ashes 2021: Justin Langer breaks silence on Ti...  ...  [justin, langer, kept, door, open, tim, paine,...\n",
              "3  Melbourne Storm NRL star Brandon Smith shopped...  ...  [brandon, smith, may, played, last, game, melb...\n",
              "4  Novak Djokovic swiped for ‘exhausting’ respons...  ...  [novak, djokovic, still, uncertain, whether, t...\n",
              "\n",
              "[5 rows x 8 columns]"
            ]
          },
          "metadata": {},
          "execution_count": 14
        }
      ]
    },
    {
      "cell_type": "code",
      "source": [
        "df.info()"
      ],
      "metadata": {
        "id": "vh1jFkkSh7bQ",
        "colab": {
          "base_uri": "https://localhost:8080/"
        },
        "outputId": "224c6900-9eb4-49fd-c64c-099df248c28f"
      },
      "execution_count": null,
      "outputs": [
        {
          "output_type": "stream",
          "name": "stdout",
          "text": [
            "<class 'pandas.core.frame.DataFrame'>\n",
            "Int64Index: 246 entries, 0 to 274\n",
            "Data columns (total 8 columns):\n",
            " #   Column       Non-Null Count  Dtype \n",
            "---  ------       --------------  ----- \n",
            " 0   Title        246 non-null    object\n",
            " 1   Article      246 non-null    object\n",
            " 2   Category     246 non-null    object\n",
            " 3   URL          246 non-null    object\n",
            " 4   News Outlet  246 non-null    object\n",
            " 5   news_clean   246 non-null    object\n",
            " 6   token_news   246 non-null    object\n",
            " 7   lemmatize    246 non-null    object\n",
            "dtypes: object(8)\n",
            "memory usage: 17.3+ KB\n"
          ]
        }
      ]
    },
    {
      "cell_type": "code",
      "source": [
        "# Get the article lengths\n",
        "df['Length'] = df[\"Article\"].str.len()\n",
        "# Get the number of words in each article\n",
        "df['Words'] = df[\"Article\"].str.split().str.len()\n",
        "# Display the new columns\n",
        "display(df[[\"Length\", \"Words\"]])\n",
        "df.describe()\n"
      ],
      "metadata": {
        "id": "_kgFT3oYk6BY",
        "colab": {
          "base_uri": "https://localhost:8080/",
          "height": 707
        },
        "outputId": "4562a4b9-2e27-4d3c-9178-733be2046f76"
      },
      "execution_count": null,
      "outputs": [
        {
          "output_type": "display_data",
          "data": {
            "text/html": [
              "<div>\n",
              "<style scoped>\n",
              "    .dataframe tbody tr th:only-of-type {\n",
              "        vertical-align: middle;\n",
              "    }\n",
              "\n",
              "    .dataframe tbody tr th {\n",
              "        vertical-align: top;\n",
              "    }\n",
              "\n",
              "    .dataframe thead th {\n",
              "        text-align: right;\n",
              "    }\n",
              "</style>\n",
              "<table border=\"1\" class=\"dataframe\">\n",
              "  <thead>\n",
              "    <tr style=\"text-align: right;\">\n",
              "      <th></th>\n",
              "      <th>Length</th>\n",
              "      <th>Words</th>\n",
              "    </tr>\n",
              "  </thead>\n",
              "  <tbody>\n",
              "    <tr>\n",
              "      <th>0</th>\n",
              "      <td>3123</td>\n",
              "      <td>486</td>\n",
              "    </tr>\n",
              "    <tr>\n",
              "      <th>1</th>\n",
              "      <td>2657</td>\n",
              "      <td>459</td>\n",
              "    </tr>\n",
              "    <tr>\n",
              "      <th>2</th>\n",
              "      <td>2743</td>\n",
              "      <td>471</td>\n",
              "    </tr>\n",
              "    <tr>\n",
              "      <th>3</th>\n",
              "      <td>2648</td>\n",
              "      <td>448</td>\n",
              "    </tr>\n",
              "    <tr>\n",
              "      <th>4</th>\n",
              "      <td>2268</td>\n",
              "      <td>376</td>\n",
              "    </tr>\n",
              "    <tr>\n",
              "      <th>...</th>\n",
              "      <td>...</td>\n",
              "      <td>...</td>\n",
              "    </tr>\n",
              "    <tr>\n",
              "      <th>270</th>\n",
              "      <td>3563</td>\n",
              "      <td>569</td>\n",
              "    </tr>\n",
              "    <tr>\n",
              "      <th>271</th>\n",
              "      <td>3147</td>\n",
              "      <td>496</td>\n",
              "    </tr>\n",
              "    <tr>\n",
              "      <th>272</th>\n",
              "      <td>3165</td>\n",
              "      <td>531</td>\n",
              "    </tr>\n",
              "    <tr>\n",
              "      <th>273</th>\n",
              "      <td>1615</td>\n",
              "      <td>259</td>\n",
              "    </tr>\n",
              "    <tr>\n",
              "      <th>274</th>\n",
              "      <td>4669</td>\n",
              "      <td>761</td>\n",
              "    </tr>\n",
              "  </tbody>\n",
              "</table>\n",
              "<p>246 rows × 2 columns</p>\n",
              "</div>"
            ],
            "text/plain": [
              "     Length  Words\n",
              "0      3123    486\n",
              "1      2657    459\n",
              "2      2743    471\n",
              "3      2648    448\n",
              "4      2268    376\n",
              "..      ...    ...\n",
              "270    3563    569\n",
              "271    3147    496\n",
              "272    3165    531\n",
              "273    1615    259\n",
              "274    4669    761\n",
              "\n",
              "[246 rows x 2 columns]"
            ]
          },
          "metadata": {}
        },
        {
          "output_type": "execute_result",
          "data": {
            "text/html": [
              "<div>\n",
              "<style scoped>\n",
              "    .dataframe tbody tr th:only-of-type {\n",
              "        vertical-align: middle;\n",
              "    }\n",
              "\n",
              "    .dataframe tbody tr th {\n",
              "        vertical-align: top;\n",
              "    }\n",
              "\n",
              "    .dataframe thead th {\n",
              "        text-align: right;\n",
              "    }\n",
              "</style>\n",
              "<table border=\"1\" class=\"dataframe\">\n",
              "  <thead>\n",
              "    <tr style=\"text-align: right;\">\n",
              "      <th></th>\n",
              "      <th>Length</th>\n",
              "      <th>Words</th>\n",
              "    </tr>\n",
              "  </thead>\n",
              "  <tbody>\n",
              "    <tr>\n",
              "      <th>count</th>\n",
              "      <td>246.000000</td>\n",
              "      <td>246.000000</td>\n",
              "    </tr>\n",
              "    <tr>\n",
              "      <th>mean</th>\n",
              "      <td>3667.402439</td>\n",
              "      <td>598.495935</td>\n",
              "    </tr>\n",
              "    <tr>\n",
              "      <th>std</th>\n",
              "      <td>2477.850015</td>\n",
              "      <td>415.218730</td>\n",
              "    </tr>\n",
              "    <tr>\n",
              "      <th>min</th>\n",
              "      <td>803.000000</td>\n",
              "      <td>135.000000</td>\n",
              "    </tr>\n",
              "    <tr>\n",
              "      <th>25%</th>\n",
              "      <td>2293.500000</td>\n",
              "      <td>382.250000</td>\n",
              "    </tr>\n",
              "    <tr>\n",
              "      <th>50%</th>\n",
              "      <td>3148.000000</td>\n",
              "      <td>528.000000</td>\n",
              "    </tr>\n",
              "    <tr>\n",
              "      <th>75%</th>\n",
              "      <td>4425.750000</td>\n",
              "      <td>719.000000</td>\n",
              "    </tr>\n",
              "    <tr>\n",
              "      <th>max</th>\n",
              "      <td>29096.000000</td>\n",
              "      <td>5106.000000</td>\n",
              "    </tr>\n",
              "  </tbody>\n",
              "</table>\n",
              "</div>"
            ],
            "text/plain": [
              "             Length        Words\n",
              "count    246.000000   246.000000\n",
              "mean    3667.402439   598.495935\n",
              "std     2477.850015   415.218730\n",
              "min      803.000000   135.000000\n",
              "25%     2293.500000   382.250000\n",
              "50%     3148.000000   528.000000\n",
              "75%     4425.750000   719.000000\n",
              "max    29096.000000  5106.000000"
            ]
          },
          "metadata": {},
          "execution_count": 16
        }
      ]
    },
    {
      "cell_type": "markdown",
      "source": [
        "#Model Building"
      ],
      "metadata": {
        "id": "gX-s1YYssvET"
      }
    },
    {
      "cell_type": "markdown",
      "source": [
        "Following that, the pieces had been cleaned and preprocessed in order to make them available for further investigation. A machine learning algorithm was applied to categorize each item as either positive, negative, or neutral, depending on its overall polarity. Because our data had not been pre-classified, we used a lexicon-based model and machine learning approaches to sort the entries into the appropriate categories. Using TextBlob, a Python programming tool, it is possible to categorize article according to their polarity. The polarity of the text is used to categorize the emotions expressed in the text. Whenever the polarity of an object is less than zero, it is considered negative; however, when the polarity of an object is equal to or greater than zero, it is considered neutral or otherwise positive. "
      ],
      "metadata": {
        "id": "kaoZi1FttxwI"
      }
    },
    {
      "cell_type": "code",
      "metadata": {
        "id": "IuWjX3eK_GMJ"
      },
      "source": [
        "from textblob import TextBlob\n",
        "# function to calculate subjectivity\n",
        "def getSubjectivity(review):\n",
        "    return TextBlob(review).sentiment.subjectivity\n",
        "    # function to calculate polarity\n",
        "def getPolarity(review):\n",
        "  return TextBlob(review).sentiment.polarity\n",
        "\n",
        "# function to analyze the reviews\n",
        "def analysis(score):\n",
        "    if score < 0:\n",
        "        return '-1'\n",
        "    elif score == 0:\n",
        "        return '0'\n",
        "    else:\n",
        "        return '1'\n"
      ],
      "execution_count": null,
      "outputs": []
    },
    {
      "cell_type": "code",
      "metadata": {
        "id": "2WAt95Sq_RRL",
        "colab": {
          "base_uri": "https://localhost:8080/",
          "height": 206
        },
        "outputId": "488ef66e-9573-45d8-bf03-d32c1fc3d9dc"
      },
      "source": [
        "fin_data = pd.DataFrame(df[['Article', 'lemmatize']])\n",
        "fin_data['Subjectivity'] = fin_data['lemmatize'].apply(lambda x: getSubjectivity((' '.join(x))))\n",
        "fin_data['Polarity'] = fin_data['lemmatize'].apply(lambda x: getPolarity(' '.join(x)))\n",
        "fin_data['Analysis'] = fin_data['Polarity'].apply(analysis)\n",
        "fin_data.head()"
      ],
      "execution_count": null,
      "outputs": [
        {
          "output_type": "execute_result",
          "data": {
            "text/html": [
              "<div>\n",
              "<style scoped>\n",
              "    .dataframe tbody tr th:only-of-type {\n",
              "        vertical-align: middle;\n",
              "    }\n",
              "\n",
              "    .dataframe tbody tr th {\n",
              "        vertical-align: top;\n",
              "    }\n",
              "\n",
              "    .dataframe thead th {\n",
              "        text-align: right;\n",
              "    }\n",
              "</style>\n",
              "<table border=\"1\" class=\"dataframe\">\n",
              "  <thead>\n",
              "    <tr style=\"text-align: right;\">\n",
              "      <th></th>\n",
              "      <th>Article</th>\n",
              "      <th>lemmatize</th>\n",
              "      <th>Subjectivity</th>\n",
              "      <th>Polarity</th>\n",
              "      <th>Analysis</th>\n",
              "    </tr>\n",
              "  </thead>\n",
              "  <tbody>\n",
              "    <tr>\n",
              "      <th>0</th>\n",
              "      <td>Walkinshaw Andretti United star Chaz Mostert h...</td>\n",
              "      <td>[walkinshaw, andretti, united, star, chaz, mos...</td>\n",
              "      <td>0.372416</td>\n",
              "      <td>0.217538</td>\n",
              "      <td>1</td>\n",
              "    </tr>\n",
              "    <tr>\n",
              "      <th>1</th>\n",
              "      <td>New Zealand spinner Ajaz Patel can’t believe h...</td>\n",
              "      <td>[new, zealand, spinner, ajaz, patel, believe, ...</td>\n",
              "      <td>0.526784</td>\n",
              "      <td>0.250320</td>\n",
              "      <td>1</td>\n",
              "    </tr>\n",
              "    <tr>\n",
              "      <th>2</th>\n",
              "      <td>Justin Langer has kept the door open on Tim Pa...</td>\n",
              "      <td>[justin, langer, kept, door, open, tim, paine,...</td>\n",
              "      <td>0.418739</td>\n",
              "      <td>0.140279</td>\n",
              "      <td>1</td>\n",
              "    </tr>\n",
              "    <tr>\n",
              "      <th>3</th>\n",
              "      <td>Brandon Smith may have played his last game fo...</td>\n",
              "      <td>[brandon, smith, may, played, last, game, melb...</td>\n",
              "      <td>0.401290</td>\n",
              "      <td>0.076323</td>\n",
              "      <td>1</td>\n",
              "    </tr>\n",
              "    <tr>\n",
              "      <th>4</th>\n",
              "      <td>Novak Djokovic is still uncertain whether he w...</td>\n",
              "      <td>[novak, djokovic, still, uncertain, whether, t...</td>\n",
              "      <td>0.395531</td>\n",
              "      <td>0.117935</td>\n",
              "      <td>1</td>\n",
              "    </tr>\n",
              "  </tbody>\n",
              "</table>\n",
              "</div>"
            ],
            "text/plain": [
              "                                             Article  ... Analysis\n",
              "0  Walkinshaw Andretti United star Chaz Mostert h...  ...        1\n",
              "1  New Zealand spinner Ajaz Patel can’t believe h...  ...        1\n",
              "2  Justin Langer has kept the door open on Tim Pa...  ...        1\n",
              "3  Brandon Smith may have played his last game fo...  ...        1\n",
              "4  Novak Djokovic is still uncertain whether he w...  ...        1\n",
              "\n",
              "[5 rows x 5 columns]"
            ]
          },
          "metadata": {},
          "execution_count": 18
        }
      ]
    },
    {
      "cell_type": "markdown",
      "metadata": {
        "id": "-4hgygD2wo9D"
      },
      "source": [
        "Looking at the graph below we can notice a clear imbalnce in our data. We can balance our data by using a form of oversampling called SMOTE. SMOTE is an oversampling method which uses synthetic samples to represent the minority population's characteristics. Oversampling can lead to overfitting, and this approach helps to alleviate this problem. It employs interpolation between positive instances to generate new instances."
      ]
    },
    {
      "cell_type": "code",
      "metadata": {
        "colab": {
          "base_uri": "https://localhost:8080/",
          "height": 295
        },
        "id": "VmSwPXbl-vHt",
        "outputId": "efdb8198-b4a7-4c16-8a0a-3c6f32d028ab"
      },
      "source": [
        "import matplotlib.pyplot as plt\n",
        "\n",
        "fin_data[\"Analysis\"].value_counts().plot(kind ='bar',rot=0)\n",
        "plt.title('Sentiment Label Postive 1 , NEgative -1')\n",
        "plt.xlabel('Label')\n",
        "plt.ylabel('Frequency')\n",
        "plt.show()"
      ],
      "execution_count": null,
      "outputs": [
        {
          "output_type": "display_data",
          "data": {
            "image/png": "[encoded data removed]",
            "text/plain": [
              "<Figure size 432x288 with 1 Axes>"
            ]
          },
          "metadata": {
            "needs_background": "light"
          }
        }
      ]
    },
    {
      "cell_type": "markdown",
      "source": [
        "In the next steps, we  first  split our data into 80% training and 20% testing sets. Then we fit the vectorizer it should only be used on the training set to avoid data leakage. As we saw in the above graph we have more postive articles than negative articles. Using imblearn we can import SMOTE library to perform oversampling. Since our predictor is binary we won't need to normlaise it, however we must  turn each string into a vector of integers before we can utilize it in any kind of machine learning task.\n"
      ],
      "metadata": {
        "id": "YhMpRTDexbui"
      }
    },
    {
      "cell_type": "code",
      "metadata": {
        "id": "pWEOFiBYw6We",
        "colab": {
          "base_uri": "https://localhost:8080/"
        },
        "outputId": "0adb4510-0c3e-4acd-e96d-84d93b846559"
      },
      "source": [
        "count_label = fin_data.Analysis.value_counts()\n",
        "print(count_label)"
      ],
      "execution_count": null,
      "outputs": [
        {
          "output_type": "stream",
          "name": "stdout",
          "text": [
            "1     219\n",
            "-1     27\n",
            "Name: Analysis, dtype: int64\n"
          ]
        }
      ]
    },
    {
      "cell_type": "code",
      "metadata": {
        "id": "nH8Ww-5T_n2C"
      },
      "source": [
        "from sklearn.model_selection import train_test_split\n",
        "\n",
        "df_article = fin_data['Article'].values\n",
        "labels = fin_data['Analysis'].values\n",
        "x_train, x_test, y_train, y_test = train_test_split(df_article, labels, test_size=0.2, random_state=1)"
      ],
      "execution_count": null,
      "outputs": []
    },
    {
      "cell_type": "code",
      "source": [
        "plt.title('Normal data distribution')\n",
        "w = collections.Counter(y_train)\n",
        "plt.bar(w.keys(), w.values())\n",
        "plt.show()"
      ],
      "metadata": {
        "colab": {
          "base_uri": "https://localhost:8080/",
          "height": 281
        },
        "id": "ol4nYSvE0cUp",
        "outputId": "4a42fd19-92b1-4f40-b1e7-d412ddf626f7"
      },
      "execution_count": null,
      "outputs": [
        {
          "output_type": "display_data",
          "data": {
            "image/png": "[encoded data removed]",
            "text/plain": [
              "<Figure size 432x288 with 1 Axes>"
            ]
          },
          "metadata": {
            "needs_background": "light"
          }
        }
      ]
    },
    {
      "cell_type": "code",
      "metadata": {
        "id": "CKial700VLZe"
      },
      "source": [
        "from sklearn.feature_extraction.text import CountVectorizer\n",
        "vectorizer = CountVectorizer(stop_words='english')\n",
        "vectorizer.fit(x_train)\n",
        "\n",
        "X_train_transformed = vectorizer.transform(x_train)\n",
        "X_test_transformed  = vectorizer.transform(x_test)\n",
        "from imblearn.over_sampling import SMOTE\n",
        "sm = SMOTE(random_state=12)\n",
        "x_train_res, y_train_res = sm.fit_resample(X_train_transformed, y_train)"
      ],
      "execution_count": null,
      "outputs": []
    },
    {
      "cell_type": "code",
      "source": [
        "plt.title('SMOTE data distribution')\n",
        "c = collections.Counter(y_train_res)\n",
        "plt.bar(c.keys(), c.values())\n",
        "plt.show()"
      ],
      "metadata": {
        "colab": {
          "base_uri": "https://localhost:8080/",
          "height": 281
        },
        "id": "RVS2VaA20k-O",
        "outputId": "7aa72104-241d-4115-9102-e717f269223f"
      },
      "execution_count": null,
      "outputs": [
        {
          "output_type": "display_data",
          "data": {
            "image/png": "[encoded data removed]",
            "text/plain": [
              "<Figure size 432x288 with 1 Axes>"
            ]
          },
          "metadata": {
            "needs_background": "light"
          }
        }
      ]
    },
    {
      "cell_type": "markdown",
      "source": [
        "Now that the classes are  balanced for the train set. We can apply Naive Bayes to our data. In order to create predictions, Naive Bayes has correctly fitted all of the data we fed it. In fact, our score is a total 99 percent."
      ],
      "metadata": {
        "id": "H7_j2FFg0zlS"
      }
    },
    {
      "cell_type": "code",
      "source": [
        "\n",
        "from sklearn.naive_bayes import MultinomialNB\n",
        "classifier = MultinomialNB()\n",
        "classifier.fit(x_train_res, y_train_res)\n",
        "y_pred_class = classifier.predict(X_test_transformed)\n",
        "y_pred_proba = classifier.predict_proba(X_test_transformed)\n",
        "accuracy = classifier.score(x_train_res, y_train_res)\n",
        "\n",
        "from sklearn import metrics\n",
        "metrics.confusion_matrix(y_test, y_pred_class)\n",
        "\n",
        "from sklearn.metrics import classification_report\n",
        "print(\"Accuracy:\", accuracy)\n",
        "print(classification_report(y_test, y_pred_class))"
      ],
      "metadata": {
        "id": "PgODrqqNP6MA",
        "colab": {
          "base_uri": "https://localhost:8080/"
        },
        "outputId": "89e39985-8a81-4a72-a504-1cd30a51d90c"
      },
      "execution_count": null,
      "outputs": [
        {
          "output_type": "stream",
          "name": "stdout",
          "text": [
            "Accuracy: 0.9913294797687862\n",
            "              precision    recall  f1-score   support\n",
            "\n",
            "          -1       0.00      0.00      0.00         4\n",
            "           1       0.91      0.93      0.92        46\n",
            "\n",
            "    accuracy                           0.86        50\n",
            "   macro avg       0.46      0.47      0.46        50\n",
            "weighted avg       0.84      0.86      0.85        50\n",
            "\n"
          ]
        }
      ]
    },
    {
      "cell_type": "code",
      "source": [
        "!wget -nc https://raw.githubusercontent.com/brpy/colab-pdf/master/colab_pdf.py\n",
        "from colab_pdf import colab_pdf\n",
        "colab_pdf('NLP_TASK1.ipynb')"
      ],
      "metadata": {
        "colab": {
          "base_uri": "https://localhost:8080/",
          "height": 591
        },
        "id": "_fCs-l71ott3",
        "outputId": "c43e1a74-ad14-4125-8e76-6b4b17052aae"
      },
      "execution_count": null,
      "outputs": [
        {
          "output_type": "stream",
          "name": "stdout",
          "text": [
            "--2021-12-08 10:42:27--  https://raw.githubusercontent.com/brpy/colab-pdf/master/colab_pdf.py\n",
            "Resolving raw.githubusercontent.com (raw.githubusercontent.com)... 185.199.108.133, 185.199.109.133, 185.199.110.133, ...\n",
            "Connecting to raw.githubusercontent.com (raw.githubusercontent.com)|185.199.108.133|:443... connected.\n",
            "HTTP request sent, awaiting response... 200 OK\n",
            "Length: 1864 (1.8K) [text/plain]\n",
            "Saving to: ‘colab_pdf.py’\n",
            "\n",
            "\rcolab_pdf.py          0%[                    ]       0  --.-KB/s               \rcolab_pdf.py        100%[===================>]   1.82K  --.-KB/s    in 0s      \n",
            "\n",
            "2021-12-08 10:42:27 (36.4 MB/s) - ‘colab_pdf.py’ saved [1864/1864]\n",
            "\n",
            "Mounted at /content/drive/\n",
            "\n",
            "WARNING: apt does not have a stable CLI interface. Use with caution in scripts.\n",
            "\n",
            "\n",
            "WARNING: apt does not have a stable CLI interface. Use with caution in scripts.\n",
            "\n",
            "Extracting templates from packages: 100%\n",
            "[NbConvertApp] Converting notebook /content/drive/MyDrive/Colab Notebooks/NLP_TASK1.ipynb to pdf\n",
            "[NbConvertApp] Support files will be in NLP_TASK1_files/\n",
            "[NbConvertApp] Making directory ./NLP_TASK1_files\n",
            "[NbConvertApp] Making directory ./NLP_TASK1_files\n",
            "[NbConvertApp] Making directory ./NLP_TASK1_files\n",
            "[NbConvertApp] Making directory ./NLP_TASK1_files\n",
            "[NbConvertApp] Writing 61496 bytes to ./notebook.tex\n",
            "[NbConvertApp] Building PDF\n",
            "[NbConvertApp] Running xelatex 3 times: [u'xelatex', u'./notebook.tex', '-quiet']\n",
            "[NbConvertApp] Running bibtex 1 time: [u'bibtex', u'./notebook']\n",
            "[NbConvertApp] WARNING | bibtex had problems, most likely because there were no citations\n",
            "[NbConvertApp] PDF successfully created\n",
            "[NbConvertApp] Writing 80222 bytes to /content/drive/My Drive/NLP_TASK1.pdf\n"
          ]
        },
        {
          "output_type": "display_data",
          "data": {
            "application/javascript": [
              "\n",
              "    async function download(id, filename, size) {\n",
              "      if (!google.colab.kernel.accessAllowed) {\n",
              "        return;\n",
              "      }\n",
              "      const div = document.createElement('div');\n",
              "      const label = document.createElement('label');\n",
              "      label.textContent = `Downloading \"${filename}\": `;\n",
              "      div.appendChild(label);\n",
              "      const progress = document.createElement('progress');\n",
              "      progress.max = size;\n",
              "      div.appendChild(progress);\n",
              "      document.body.appendChild(div);\n",
              "\n",
              "      const buffers = [];\n",
              "      let downloaded = 0;\n",
              "\n",
              "      const channel = await google.colab.kernel.comms.open(id);\n",
              "      // Send a message to notify the kernel that we're ready.\n",
              "      channel.send({})\n",
              "\n",
              "      for await (const message of channel.messages) {\n",
              "        // Send a message to notify the kernel that we're ready.\n",
              "        channel.send({})\n",
              "        if (message.buffers) {\n",
              "          for (const buffer of message.buffers) {\n",
              "            buffers.push(buffer);\n",
              "            downloaded += buffer.byteLength;\n",
              "            progress.value = downloaded;\n",
              "          }\n",
              "        }\n",
              "      }\n",
              "      const blob = new Blob(buffers, {type: 'application/binary'});\n",
              "      const a = document.createElement('a');\n",
              "      a.href = window.URL.createObjectURL(blob);\n",
              "      a.download = filename;\n",
              "      div.appendChild(a);\n",
              "      a.click();\n",
              "      div.remove();\n",
              "    }\n",
              "  "
            ],
            "text/plain": [
              "<IPython.core.display.Javascript object>"
            ]
          },
          "metadata": {}
        },
        {
          "output_type": "display_data",
          "data": {
            "application/javascript": [
              "download(\"download_1f80c5a4-ed90-4f99-8dce-9e21d506736d\", \"NLP_TASK1.pdf\", 80222)"
            ],
            "text/plain": [
              "<IPython.core.display.Javascript object>"
            ]
          },
          "metadata": {}
        },
        {
          "output_type": "execute_result",
          "data": {
            "application/vnd.google.colaboratory.intrinsic+json": {
              "type": "string"
            },
            "text/plain": [
              "'File ready to be Downloaded and Saved to Drive'"
            ]
          },
          "metadata": {},
          "execution_count": 26
        }
      ]
    }
  ]
}